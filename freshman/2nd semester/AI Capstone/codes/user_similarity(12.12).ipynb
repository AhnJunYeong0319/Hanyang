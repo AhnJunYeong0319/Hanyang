{
 "cells": [
  {
   "cell_type": "code",
   "execution_count": null,
   "metadata": {},
   "outputs": [],
   "source": [
    "import pandas as pd\n",
    "import numpy as np\n",
    "from scipy.sparse import csr_matrix\n",
    "from sklearn.metrics.pairwise import cosine_similarity\n",
    "\n",
    "user = pd.read_csv(\"./ratings.csv\")\n",
    "\n",
    "sparse_matrix_user = csr_matrix((user['rating'], (user['userId'], user['movieId'])))\n",
    "\n",
    "row_index_user, col_index_user = sparse_matrix_user.nonzero()\n",
    "data_user = sparse_matrix_user.data\n",
    "\n",
    "rows_user = np.unique(row_index_user)\n",
    "length = max(rows_user)+1\n",
    "\n",
    "sim_matrix = []\n",
    "\n",
    "for row in range(1, length):\n",
    "    sim = cosine_similarity(sparse_matrix_user.getrow(row), sparse_matrix_user).ravel()\n",
    "\n",
    "    sim = np.array(sim)\n",
    "    s = sim.argsort()[-50:]\n",
    "    a=sim[s]\n",
    "    sim_matrix.append(s)\n",
    "    \n",
    "    print(row/length*100, \"% is done\")\n",
    "\n",
    "sim_matrix = pd.DataFrame(sim_matrix)\n",
    "sim_matrix.to_csv(\"C:/Users/JihongJeong/capstone/simliaritymatrix_user.csv\", mode = 'w')"
   ]
  }
 ],
 "metadata": {
  "kernelspec": {
   "display_name": "Python 3",
   "language": "python",
   "name": "python3"
  },
  "language_info": {
   "codemirror_mode": {
    "name": "ipython",
    "version": 3
   },
   "file_extension": ".py",
   "mimetype": "text/x-python",
   "name": "python",
   "nbconvert_exporter": "python",
   "pygments_lexer": "ipython3",
   "version": "3.8.3"
  }
 },
 "nbformat": 4,
 "nbformat_minor": 4
}
