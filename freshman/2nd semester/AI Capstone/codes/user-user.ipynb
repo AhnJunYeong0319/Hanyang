{
 "cells": [
  {
   "cell_type": "code",
   "execution_count": null,
   "metadata": {},
   "outputs": [],
   "source": [
    "import pandas as pd\n",
    "import numpy as np\n",
    "from scipy.sparse import csr_matrix\n",
    "from sklearn.metrics.pairwise import cosine_similarity\n",
    "\n",
    "user = pd.read_csv(\"./ratings.csv\")\n",
    "\n",
    "#print(user.head())\n",
    "\n",
    "sparse_matrix = csr_matrix((user['rating'], (user['userId'], user['movieId'])))\n",
    "row_index, col_index = sparse_matrix.nonzero()\n",
    "\n",
    "rows = np.unique(row_index)\n",
    "\n",
    "n=10\n",
    "similarMatrix = np.zeros(611*(n+1)).reshape(611,(n+1))\n",
    "\n",
    "for row in rows:\n",
    "    sim = cosine_similarity(sparse_matrix.getrow(row), sparse_matrix).ravel()\n",
    "    top_n_similar_indices = sim.argsort()[-(n+1):]\n",
    "    #print(top_n_similar_indices)\n",
    "    top_n_similar = sim[top_n_similar_indices]\n",
    "    #print(top_n_similar, \"\\n\")\n",
    "    for i in range(n+1):\n",
    "        similarMatrix[row][i] = int(top_n_similar_indices[n-i])\n",
    "similarMatrix = similarMatrix[1:]\n",
    "\n",
    "\n",
    "target_user = 324\n",
    "print(\"\\n\")\n",
    "print(\"============ Finding High Similar User ============\", \"\\n\")\n",
    "print(\"High similarity with User ID <\",target_user ,\"> is : \", \"\\n\")\n",
    "for i in range(n):\n",
    "    print(\"<\",similarMatrix[target_user][i],\">\")"
   ]
  },
  {
   "cell_type": "code",
   "execution_count": null,
   "metadata": {},
   "outputs": [],
   "source": []
  }
 ],
 "metadata": {
  "kernelspec": {
   "display_name": "Python 3",
   "language": "python",
   "name": "python3"
  },
  "language_info": {
   "codemirror_mode": {
    "name": "ipython",
    "version": 3
   },
   "file_extension": ".py",
   "mimetype": "text/x-python",
   "name": "python",
   "nbconvert_exporter": "python",
   "pygments_lexer": "ipython3",
   "version": "3.8.3"
  }
 },
 "nbformat": 4,
 "nbformat_minor": 4
}
