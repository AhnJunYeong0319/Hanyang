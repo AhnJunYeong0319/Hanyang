{
 "cells": [
  {
   "cell_type": "code",
   "execution_count": null,
   "metadata": {},
   "outputs": [],
   "source": [
    "import pandas as pd\n",
    "import numpy as np\n",
    "\n",
    "user_sim = pd.read_csv(\"./simliaritymatrix_user.csv\")\n",
    "user = pd.read_csv(\"./ratings.csv\")\n",
    "movie = pd.read_csv(\"./movies.csv\")\n",
    "\n",
    "user_sim = user_sim.drop([user_sim.columns[0]], axis=1)\n",
    "\n",
    "print(user_sim)\n",
    "\n",
    "movie_id = max(user['movieId'])+1\n",
    "user_id = max(user['userId'])+1\n",
    "\n",
    "movie_check =  np.zeros(user_id*movie_id).reshape(user_id,movie_id)\n",
    "\n",
    "for i in range(len(user)):\n",
    "    movie_check[user['userId'][i]][user['movieId'][i]] = user['rating'][i]\n",
    "\n",
    "f = open(\"feature_user.csv\", 'w')\n",
    "\n",
    "for i in range(5):\n",
    "    f.write(\"sim_user\"+str(i+1)+\",\")\n",
    "f.write(\"\\n\")\n",
    "\n",
    "len_user=len(user)\n",
    "\n",
    "for i in range(len_user):\n",
    "    target_movie = user['movieId'][i]\n",
    "    target_user = user['userId'][i]\n",
    "    ch_user=0\n",
    "\n",
    "    a = np.array(user_sim[user_sim['49']==target_user])[0]\n",
    "    a = a[49::-1]\n",
    "    \n",
    "    for j in range(49):\n",
    "        if movie_check[a[j]][user['movieId'][i]] != 0:\n",
    "            f.write(str(movie_check[a[j]][user['movieId'][i]])+\",\")\n",
    "            ch_user=ch_user+1\n",
    "        if ch_user == 5:\n",
    "            break\n",
    "        \n",
    "    print(i/len_user*100,\"% is done\")\n",
    "    f.write(\"\\n\")\n",
    "f.close()\n"
   ]
  },
  {
   "cell_type": "code",
   "execution_count": null,
   "metadata": {},
   "outputs": [],
   "source": []
  },
  {
   "cell_type": "code",
   "execution_count": null,
   "metadata": {},
   "outputs": [],
   "source": []
  },
  {
   "cell_type": "code",
   "execution_count": null,
   "metadata": {},
   "outputs": [],
   "source": []
  },
  {
   "cell_type": "code",
   "execution_count": null,
   "metadata": {},
   "outputs": [],
   "source": []
  },
  {
   "cell_type": "code",
   "execution_count": null,
   "metadata": {},
   "outputs": [],
   "source": []
  },
  {
   "cell_type": "code",
   "execution_count": null,
   "metadata": {},
   "outputs": [],
   "source": []
  },
  {
   "cell_type": "code",
   "execution_count": null,
   "metadata": {},
   "outputs": [],
   "source": []
  }
 ],
 "metadata": {
  "kernelspec": {
   "display_name": "Python 3",
   "language": "python",
   "name": "python3"
  },
  "language_info": {
   "codemirror_mode": {
    "name": "ipython",
    "version": 3
   },
   "file_extension": ".py",
   "mimetype": "text/x-python",
   "name": "python",
   "nbconvert_exporter": "python",
   "pygments_lexer": "ipython3",
   "version": "3.8.3"
  }
 },
 "nbformat": 4,
 "nbformat_minor": 4
}
