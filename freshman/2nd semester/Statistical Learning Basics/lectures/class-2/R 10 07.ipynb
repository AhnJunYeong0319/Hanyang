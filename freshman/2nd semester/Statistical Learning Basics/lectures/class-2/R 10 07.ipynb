{
 "cells": [
  {
   "cell_type": "code",
   "execution_count": null,
   "metadata": {},
   "outputs": [],
   "source": [
    "library(ISLR)"
   ]
  },
  {
   "cell_type": "code",
   "execution_count": 2,
   "metadata": {},
   "outputs": [
    {
     "name": "stderr",
     "output_type": "stream",
     "text": [
      "Registered S3 methods overwritten by 'ggplot2':\n",
      "  method         from \n",
      "  [.quosures     rlang\n",
      "  c.quosures     rlang\n",
      "  print.quosures rlang\n"
     ]
    }
   ],
   "source": [
    "library(ggplot2)"
   ]
  },
  {
   "cell_type": "code",
   "execution_count": 3,
   "metadata": {},
   "outputs": [
    {
     "name": "stderr",
     "output_type": "stream",
     "text": [
      "\n",
      "Attaching package: 'dplyr'\n",
      "\n",
      "The following objects are masked from 'package:stats':\n",
      "\n",
      "    filter, lag\n",
      "\n",
      "The following objects are masked from 'package:base':\n",
      "\n",
      "    intersect, setdiff, setequal, union\n",
      "\n"
     ]
    }
   ],
   "source": [
    "library(dplyr)"
   ]
  },
  {
   "cell_type": "code",
   "execution_count": 9,
   "metadata": {},
   "outputs": [],
   "source": [
    "advertise <- as.data.frame(read.csv(\"Advertising.csv\"))"
   ]
  },
  {
   "cell_type": "code",
   "execution_count": 10,
   "metadata": {},
   "outputs": [
    {
     "name": "stdout",
     "output_type": "stream",
     "text": [
      "Observations: 200\n",
      "Variables: 5\n",
      "$ X         <int> 1, 2, 3, 4, 5, 6, 7, 8, 9, 10, 11, 12, 13, 14, 15, 16, 17...\n",
      "$ TV        <dbl> 230.1, 44.5, 17.2, 151.5, 180.8, 8.7, 57.5, 120.2, 8.6, 1...\n",
      "$ radio     <dbl> 37.8, 39.3, 45.9, 41.3, 10.8, 48.9, 32.8, 19.6, 2.1, 2.6,...\n",
      "$ newspaper <dbl> 69.2, 45.1, 69.3, 58.5, 58.4, 75.0, 23.5, 11.6, 1.0, 21.2...\n",
      "$ sales     <dbl> 22.1, 10.4, 9.3, 18.5, 12.9, 7.2, 11.8, 13.2, 4.8, 10.6, ...\n"
     ]
    }
   ],
   "source": [
    "glimpse(advertise)"
   ]
  },
  {
   "cell_type": "code",
   "execution_count": 32,
   "metadata": {},
   "outputs": [
    {
     "data": {
      "image/png": "[encoded data removed]",
      "text/plain": [
       "plot without title"
      ]
     },
     "metadata": {},
     "output_type": "display_data"
    }
   ],
   "source": [
    "plot(advertise$TV , advertise$sales, ylab = 'sales', xlab = 'TV', col = 'red')\n",
    "abline(advertise.lm$coefficients, col='blue')"
   ]
  },
  {
   "cell_type": "code",
   "execution_count": 30,
   "metadata": {},
   "outputs": [
    {
     "name": "stdout",
     "output_type": "stream",
     "text": [
      "\n",
      "Call:\n",
      "lm(formula = advertise$sales ~ advertise$TV, data = x)\n",
      "\n",
      "Coefficients:\n",
      " (Intercept)  advertise$TV  \n",
      "     7.03259       0.04754  \n",
      "\n"
     ]
    }
   ],
   "source": [
    "advertise.lm = lm(advertise$sales ~ advertise$TV, x)\n",
    "print(advertise.lm)"
   ]
  },
  {
   "cell_type": "code",
   "execution_count": 27,
   "metadata": {},
   "outputs": [
    {
     "name": "stdout",
     "output_type": "stream",
     "text": [
      "       X1   X2\n",
      "1   230.1 22.1\n",
      "2    44.5 10.4\n",
      "3    17.2  9.3\n",
      "4   151.5 18.5\n",
      "5   180.8 12.9\n",
      "6     8.7  7.2\n",
      "7    57.5 11.8\n",
      "8   120.2 13.2\n",
      "9     8.6  4.8\n",
      "10  199.8 10.6\n",
      "11   66.1  8.6\n",
      "12  214.7 17.4\n",
      "13   23.8  9.2\n",
      "14   97.5  9.7\n",
      "15  204.1 19.0\n",
      "16  195.4 22.4\n",
      "17   67.8 12.5\n",
      "18  281.4 24.4\n",
      "19   69.2 11.3\n",
      "20  147.3 14.6\n",
      "21  218.4 18.0\n",
      "22  237.4 12.5\n",
      "23   13.2  5.6\n",
      "24  228.3 15.5\n",
      "25   62.3  9.7\n",
      "26  262.9 12.0\n",
      "27  142.9 15.0\n",
      "28  240.1 15.9\n",
      "29  248.8 18.9\n",
      "30   70.6 10.5\n",
      "31  292.9 21.4\n",
      "32  112.9 11.9\n",
      "33   97.2  9.6\n",
      "34  265.6 17.4\n",
      "35   95.7  9.5\n",
      "36  290.7 12.8\n",
      "37  266.9 25.4\n",
      "38   74.7 14.7\n",
      "39   43.1 10.1\n",
      "40  228.0 21.5\n",
      "41  202.5 16.6\n",
      "42  177.0 17.1\n",
      "43  293.6 20.7\n",
      "44  206.9 12.9\n",
      "45   25.1  8.5\n",
      "46  175.1 14.9\n",
      "47   89.7 10.6\n",
      "48  239.9 23.2\n",
      "49  227.2 14.8\n",
      "50   66.9  9.7\n",
      "51  199.8 11.4\n",
      "52  100.4 10.7\n",
      "53  216.4 22.6\n",
      "54  182.6 21.2\n",
      "55  262.7 20.2\n",
      "56  198.9 23.7\n",
      "57    7.3  5.5\n",
      "58  136.2 13.2\n",
      "59  210.8 23.8\n",
      "60  210.7 18.4\n",
      "61   53.5  8.1\n",
      "62  261.3 24.2\n",
      "63  239.3 15.7\n",
      "64  102.7 14.0\n",
      "65  131.1 18.0\n",
      "66   69.0  9.3\n",
      "67   31.5  9.5\n",
      "68  139.3 13.4\n",
      "69  237.4 18.9\n",
      "70  216.8 22.3\n",
      "71  199.1 18.3\n",
      "72  109.8 12.4\n",
      "73   26.8  8.8\n",
      "74  129.4 11.0\n",
      "75  213.4 17.0\n",
      "76   16.9  8.7\n",
      "77   27.5  6.9\n",
      "78  120.5 14.2\n",
      "79    5.4  5.3\n",
      "80  116.0 11.0\n",
      "81   76.4 11.8\n",
      "82  239.8 12.3\n",
      "83   75.3 11.3\n",
      "84   68.4 13.6\n",
      "85  213.5 21.7\n",
      "86  193.2 15.2\n",
      "87   76.3 12.0\n",
      "88  110.7 16.0\n",
      "89   88.3 12.9\n",
      "90  109.8 16.7\n",
      "91  134.3 11.2\n",
      "92   28.6  7.3\n",
      "93  217.7 19.4\n",
      "94  250.9 22.2\n",
      "95  107.4 11.5\n",
      "96  163.3 16.9\n",
      "97  197.6 11.7\n",
      "98  184.9 15.5\n",
      "99  289.7 25.4\n",
      "100 135.2 17.2\n",
      "101 222.4 11.7\n",
      "102 296.4 23.8\n",
      "103 280.2 14.8\n",
      "104 187.9 14.7\n",
      "105 238.2 20.7\n",
      "106 137.9 19.2\n",
      "107  25.0  7.2\n",
      "108  90.4  8.7\n",
      "109  13.1  5.3\n",
      "110 255.4 19.8\n",
      "111 225.8 13.4\n",
      "112 241.7 21.8\n",
      "113 175.7 14.1\n",
      "114 209.6 15.9\n",
      "115  78.2 14.6\n",
      "116  75.1 12.6\n",
      "117 139.2 12.2\n",
      "118  76.4  9.4\n",
      "119 125.7 15.9\n",
      "120  19.4  6.6\n",
      "121 141.3 15.5\n",
      "122  18.8  7.0\n",
      "123 224.0 11.6\n",
      "124 123.1 15.2\n",
      "125 229.5 19.7\n",
      "126  87.2 10.6\n",
      "127   7.8  6.6\n",
      "128  80.2  8.8\n",
      "129 220.3 24.7\n",
      "130  59.6  9.7\n",
      "131   0.7  1.6\n",
      "132 265.2 12.7\n",
      "133   8.4  5.7\n",
      "134 219.8 19.6\n",
      "135  36.9 10.8\n",
      "136  48.3 11.6\n",
      "137  25.6  9.5\n",
      "138 273.7 20.8\n",
      "139  43.0  9.6\n",
      "140 184.9 20.7\n",
      "141  73.4 10.9\n",
      "142 193.7 19.2\n",
      "143 220.5 20.1\n",
      "144 104.6 10.4\n",
      "145  96.2 11.4\n",
      "146 140.3 10.3\n",
      "147 240.1 13.2\n",
      "148 243.2 25.4\n",
      "149  38.0 10.9\n",
      "150  44.7 10.1\n",
      "151 280.7 16.1\n",
      "152 121.0 11.6\n",
      "153 197.6 16.6\n",
      "154 171.3 19.0\n",
      "155 187.8 15.6\n",
      "156   4.1  3.2\n",
      "157  93.9 15.3\n",
      "158 149.8 10.1\n",
      "159  11.7  7.3\n",
      "160 131.7 12.9\n",
      "161 172.5 14.4\n",
      "162  85.7 13.3\n",
      "163 188.4 14.9\n",
      "164 163.5 18.0\n",
      "165 117.2 11.9\n",
      "166 234.5 11.9\n",
      "167  17.9  8.0\n",
      "168 206.8 12.2\n",
      "169 215.4 17.1\n",
      "170 284.3 15.0\n",
      "171  50.0  8.4\n",
      "172 164.5 14.5\n",
      "173  19.6  7.6\n",
      "174 168.4 11.7\n",
      "175 222.4 11.5\n",
      "176 276.9 27.0\n",
      "177 248.4 20.2\n",
      "178 170.2 11.7\n",
      "179 276.7 11.8\n",
      "180 165.6 12.6\n",
      "181 156.6 10.5\n",
      "182 218.5 12.2\n",
      "183  56.2  8.7\n",
      "184 287.6 26.2\n",
      "185 253.8 17.6\n",
      "186 205.0 22.6\n",
      "187 139.5 10.3\n",
      "188 191.1 17.3\n",
      "189 286.0 15.9\n",
      "190  18.7  6.7\n",
      "191  39.5 10.8\n",
      "192  75.5  9.9\n",
      "193  17.2  5.9\n",
      "194 166.8 19.6\n",
      "195 149.7 17.3\n",
      "196  38.2  7.6\n",
      "197  94.2  9.7\n",
      "198 177.0 12.8\n",
      "199 283.6 25.5\n",
      "200 232.1 13.4\n"
     ]
    }
   ],
   "source": [
    "x <- data.frame(cbind(advertise$TV, advertise$sales))\n",
    "print(x)"
   ]
  },
  {
   "cell_type": "code",
   "execution_count": 33,
   "metadata": {},
   "outputs": [
    {
     "name": "stderr",
     "output_type": "stream",
     "text": [
      "\n",
      "Attaching package: 'MASS'\n",
      "\n",
      "The following object is masked from 'package:dplyr':\n",
      "\n",
      "    select\n",
      "\n"
     ]
    }
   ],
   "source": [
    "library(MASS)"
   ]
  },
  {
   "cell_type": "code",
   "execution_count": 38,
   "metadata": {},
   "outputs": [
    {
     "data": {
      "text/html": [
       "<table>\n",
       "<thead><tr><th scope=col>crim</th><th scope=col>zn</th><th scope=col>indus</th><th scope=col>chas</th><th scope=col>nox</th><th scope=col>rm</th><th scope=col>age</th><th scope=col>dis</th><th scope=col>rad</th><th scope=col>tax</th><th scope=col>ptratio</th><th scope=col>black</th><th scope=col>lstat</th><th scope=col>medv</th></tr></thead>\n",
       "<tbody>\n",
       "\t<tr><td>0.00632</td><td>18.0   </td><td>2.31   </td><td>0      </td><td>0.538  </td><td>6.575  </td><td> 65.2  </td><td>4.0900 </td><td>1      </td><td>296    </td><td>15.3   </td><td>396.90 </td><td> 4.98  </td><td>24.0   </td></tr>\n",
       "\t<tr><td>0.02731</td><td> 0.0   </td><td>7.07   </td><td>0      </td><td>0.469  </td><td>6.421  </td><td> 78.9  </td><td>4.9671 </td><td>2      </td><td>242    </td><td>17.8   </td><td>396.90 </td><td> 9.14  </td><td>21.6   </td></tr>\n",
       "\t<tr><td>0.02729</td><td> 0.0   </td><td>7.07   </td><td>0      </td><td>0.469  </td><td>7.185  </td><td> 61.1  </td><td>4.9671 </td><td>2      </td><td>242    </td><td>17.8   </td><td>392.83 </td><td> 4.03  </td><td>34.7   </td></tr>\n",
       "\t<tr><td>0.03237</td><td> 0.0   </td><td>2.18   </td><td>0      </td><td>0.458  </td><td>6.998  </td><td> 45.8  </td><td>6.0622 </td><td>3      </td><td>222    </td><td>18.7   </td><td>394.63 </td><td> 2.94  </td><td>33.4   </td></tr>\n",
       "\t<tr><td>0.06905</td><td> 0.0   </td><td>2.18   </td><td>0      </td><td>0.458  </td><td>7.147  </td><td> 54.2  </td><td>6.0622 </td><td>3      </td><td>222    </td><td>18.7   </td><td>396.90 </td><td> 5.33  </td><td>36.2   </td></tr>\n",
       "\t<tr><td>0.02985</td><td> 0.0   </td><td>2.18   </td><td>0      </td><td>0.458  </td><td>6.430  </td><td> 58.7  </td><td>6.0622 </td><td>3      </td><td>222    </td><td>18.7   </td><td>394.12 </td><td> 5.21  </td><td>28.7   </td></tr>\n",
       "\t<tr><td>0.08829</td><td>12.5   </td><td>7.87   </td><td>0      </td><td>0.524  </td><td>6.012  </td><td> 66.6  </td><td>5.5605 </td><td>5      </td><td>311    </td><td>15.2   </td><td>395.60 </td><td>12.43  </td><td>22.9   </td></tr>\n",
       "\t<tr><td>0.14455</td><td>12.5   </td><td>7.87   </td><td>0      </td><td>0.524  </td><td>6.172  </td><td> 96.1  </td><td>5.9505 </td><td>5      </td><td>311    </td><td>15.2   </td><td>396.90 </td><td>19.15  </td><td>27.1   </td></tr>\n",
       "\t<tr><td>0.21124</td><td>12.5   </td><td>7.87   </td><td>0      </td><td>0.524  </td><td>5.631  </td><td>100.0  </td><td>6.0821 </td><td>5      </td><td>311    </td><td>15.2   </td><td>386.63 </td><td>29.93  </td><td>16.5   </td></tr>\n",
       "\t<tr><td>0.17004</td><td>12.5   </td><td>7.87   </td><td>0      </td><td>0.524  </td><td>6.004  </td><td> 85.9  </td><td>6.5921 </td><td>5      </td><td>311    </td><td>15.2   </td><td>386.71 </td><td>17.10  </td><td>18.9   </td></tr>\n",
       "\t<tr><td>0.22489</td><td>12.5   </td><td>7.87   </td><td>0      </td><td>0.524  </td><td>6.377  </td><td> 94.3  </td><td>6.3467 </td><td>5      </td><td>311    </td><td>15.2   </td><td>392.52 </td><td>20.45  </td><td>15.0   </td></tr>\n",
       "\t<tr><td>0.11747</td><td>12.5   </td><td>7.87   </td><td>0      </td><td>0.524  </td><td>6.009  </td><td> 82.9  </td><td>6.2267 </td><td>5      </td><td>311    </td><td>15.2   </td><td>396.90 </td><td>13.27  </td><td>18.9   </td></tr>\n",
       "\t<tr><td>0.09378</td><td>12.5   </td><td>7.87   </td><td>0      </td><td>0.524  </td><td>5.889  </td><td> 39.0  </td><td>5.4509 </td><td>5      </td><td>311    </td><td>15.2   </td><td>390.50 </td><td>15.71  </td><td>21.7   </td></tr>\n",
       "\t<tr><td>0.62976</td><td> 0.0   </td><td>8.14   </td><td>0      </td><td>0.538  </td><td>5.949  </td><td> 61.8  </td><td>4.7075 </td><td>4      </td><td>307    </td><td>21.0   </td><td>396.90 </td><td> 8.26  </td><td>20.4   </td></tr>\n",
       "\t<tr><td>0.63796</td><td> 0.0   </td><td>8.14   </td><td>0      </td><td>0.538  </td><td>6.096  </td><td> 84.5  </td><td>4.4619 </td><td>4      </td><td>307    </td><td>21.0   </td><td>380.02 </td><td>10.26  </td><td>18.2   </td></tr>\n",
       "\t<tr><td>0.62739</td><td> 0.0   </td><td>8.14   </td><td>0      </td><td>0.538  </td><td>5.834  </td><td> 56.5  </td><td>4.4986 </td><td>4      </td><td>307    </td><td>21.0   </td><td>395.62 </td><td> 8.47  </td><td>19.9   </td></tr>\n",
       "\t<tr><td>1.05393</td><td> 0.0   </td><td>8.14   </td><td>0      </td><td>0.538  </td><td>5.935  </td><td> 29.3  </td><td>4.4986 </td><td>4      </td><td>307    </td><td>21.0   </td><td>386.85 </td><td> 6.58  </td><td>23.1   </td></tr>\n",
       "\t<tr><td>0.78420</td><td> 0.0   </td><td>8.14   </td><td>0      </td><td>0.538  </td><td>5.990  </td><td> 81.7  </td><td>4.2579 </td><td>4      </td><td>307    </td><td>21.0   </td><td>386.75 </td><td>14.67  </td><td>17.5   </td></tr>\n",
       "\t<tr><td>0.80271</td><td> 0.0   </td><td>8.14   </td><td>0      </td><td>0.538  </td><td>5.456  </td><td> 36.6  </td><td>3.7965 </td><td>4      </td><td>307    </td><td>21.0   </td><td>288.99 </td><td>11.69  </td><td>20.2   </td></tr>\n",
       "\t<tr><td>0.72580</td><td> 0.0   </td><td>8.14   </td><td>0      </td><td>0.538  </td><td>5.727  </td><td> 69.5  </td><td>3.7965 </td><td>4      </td><td>307    </td><td>21.0   </td><td>390.95 </td><td>11.28  </td><td>18.2   </td></tr>\n",
       "\t<tr><td>1.25179</td><td> 0.0   </td><td>8.14   </td><td>0      </td><td>0.538  </td><td>5.570  </td><td> 98.1  </td><td>3.7979 </td><td>4      </td><td>307    </td><td>21.0   </td><td>376.57 </td><td>21.02  </td><td>13.6   </td></tr>\n",
       "\t<tr><td>0.85204</td><td> 0.0   </td><td>8.14   </td><td>0      </td><td>0.538  </td><td>5.965  </td><td> 89.2  </td><td>4.0123 </td><td>4      </td><td>307    </td><td>21.0   </td><td>392.53 </td><td>13.83  </td><td>19.6   </td></tr>\n",
       "\t<tr><td>1.23247</td><td> 0.0   </td><td>8.14   </td><td>0      </td><td>0.538  </td><td>6.142  </td><td> 91.7  </td><td>3.9769 </td><td>4      </td><td>307    </td><td>21.0   </td><td>396.90 </td><td>18.72  </td><td>15.2   </td></tr>\n",
       "\t<tr><td>0.98843</td><td> 0.0   </td><td>8.14   </td><td>0      </td><td>0.538  </td><td>5.813  </td><td>100.0  </td><td>4.0952 </td><td>4      </td><td>307    </td><td>21.0   </td><td>394.54 </td><td>19.88  </td><td>14.5   </td></tr>\n",
       "\t<tr><td>0.75026</td><td> 0.0   </td><td>8.14   </td><td>0      </td><td>0.538  </td><td>5.924  </td><td> 94.1  </td><td>4.3996 </td><td>4      </td><td>307    </td><td>21.0   </td><td>394.33 </td><td>16.30  </td><td>15.6   </td></tr>\n",
       "\t<tr><td>0.84054</td><td> 0.0   </td><td>8.14   </td><td>0      </td><td>0.538  </td><td>5.599  </td><td> 85.7  </td><td>4.4546 </td><td>4      </td><td>307    </td><td>21.0   </td><td>303.42 </td><td>16.51  </td><td>13.9   </td></tr>\n",
       "\t<tr><td>0.67191</td><td> 0.0   </td><td>8.14   </td><td>0      </td><td>0.538  </td><td>5.813  </td><td> 90.3  </td><td>4.6820 </td><td>4      </td><td>307    </td><td>21.0   </td><td>376.88 </td><td>14.81  </td><td>16.6   </td></tr>\n",
       "\t<tr><td>0.95577</td><td> 0.0   </td><td>8.14   </td><td>0      </td><td>0.538  </td><td>6.047  </td><td> 88.8  </td><td>4.4534 </td><td>4      </td><td>307    </td><td>21.0   </td><td>306.38 </td><td>17.28  </td><td>14.8   </td></tr>\n",
       "\t<tr><td>0.77299</td><td> 0.0   </td><td>8.14   </td><td>0      </td><td>0.538  </td><td>6.495  </td><td> 94.4  </td><td>4.4547 </td><td>4      </td><td>307    </td><td>21.0   </td><td>387.94 </td><td>12.80  </td><td>18.4   </td></tr>\n",
       "\t<tr><td>1.00245</td><td> 0.0   </td><td>8.14   </td><td>0      </td><td>0.538  </td><td>6.674  </td><td> 87.3  </td><td>4.2390 </td><td>4      </td><td>307    </td><td>21.0   </td><td>380.23 </td><td>11.98  </td><td>21.0   </td></tr>\n",
       "\t<tr><td>...</td><td>...</td><td>...</td><td>...</td><td>...</td><td>...</td><td>...</td><td>...</td><td>...</td><td>...</td><td>...</td><td>...</td><td>...</td><td>...</td></tr>\n",
       "\t<tr><td> 4.87141</td><td>0       </td><td>18.10   </td><td>0       </td><td>0.614   </td><td>6.484   </td><td>93.6    </td><td>2.3053  </td><td>24      </td><td>666     </td><td>20.2    </td><td>396.21  </td><td>18.68   </td><td>16.7    </td></tr>\n",
       "\t<tr><td>15.02340</td><td>0       </td><td>18.10   </td><td>0       </td><td>0.614   </td><td>5.304   </td><td>97.3    </td><td>2.1007  </td><td>24      </td><td>666     </td><td>20.2    </td><td>349.48  </td><td>24.91   </td><td>12.0    </td></tr>\n",
       "\t<tr><td>10.23300</td><td>0       </td><td>18.10   </td><td>0       </td><td>0.614   </td><td>6.185   </td><td>96.7    </td><td>2.1705  </td><td>24      </td><td>666     </td><td>20.2    </td><td>379.70  </td><td>18.03   </td><td>14.6    </td></tr>\n",
       "\t<tr><td>14.33370</td><td>0       </td><td>18.10   </td><td>0       </td><td>0.614   </td><td>6.229   </td><td>88.0    </td><td>1.9512  </td><td>24      </td><td>666     </td><td>20.2    </td><td>383.32  </td><td>13.11   </td><td>21.4    </td></tr>\n",
       "\t<tr><td> 5.82401</td><td>0       </td><td>18.10   </td><td>0       </td><td>0.532   </td><td>6.242   </td><td>64.7    </td><td>3.4242  </td><td>24      </td><td>666     </td><td>20.2    </td><td>396.90  </td><td>10.74   </td><td>23.0    </td></tr>\n",
       "\t<tr><td> 5.70818</td><td>0       </td><td>18.10   </td><td>0       </td><td>0.532   </td><td>6.750   </td><td>74.9    </td><td>3.3317  </td><td>24      </td><td>666     </td><td>20.2    </td><td>393.07  </td><td> 7.74   </td><td>23.7    </td></tr>\n",
       "\t<tr><td> 5.73116</td><td>0       </td><td>18.10   </td><td>0       </td><td>0.532   </td><td>7.061   </td><td>77.0    </td><td>3.4106  </td><td>24      </td><td>666     </td><td>20.2    </td><td>395.28  </td><td> 7.01   </td><td>25.0    </td></tr>\n",
       "\t<tr><td> 2.81838</td><td>0       </td><td>18.10   </td><td>0       </td><td>0.532   </td><td>5.762   </td><td>40.3    </td><td>4.0983  </td><td>24      </td><td>666     </td><td>20.2    </td><td>392.92  </td><td>10.42   </td><td>21.8    </td></tr>\n",
       "\t<tr><td> 2.37857</td><td>0       </td><td>18.10   </td><td>0       </td><td>0.583   </td><td>5.871   </td><td>41.9    </td><td>3.7240  </td><td>24      </td><td>666     </td><td>20.2    </td><td>370.73  </td><td>13.34   </td><td>20.6    </td></tr>\n",
       "\t<tr><td> 3.67367</td><td>0       </td><td>18.10   </td><td>0       </td><td>0.583   </td><td>6.312   </td><td>51.9    </td><td>3.9917  </td><td>24      </td><td>666     </td><td>20.2    </td><td>388.62  </td><td>10.58   </td><td>21.2    </td></tr>\n",
       "\t<tr><td> 5.69175</td><td>0       </td><td>18.10   </td><td>0       </td><td>0.583   </td><td>6.114   </td><td>79.8    </td><td>3.5459  </td><td>24      </td><td>666     </td><td>20.2    </td><td>392.68  </td><td>14.98   </td><td>19.1    </td></tr>\n",
       "\t<tr><td> 4.83567</td><td>0       </td><td>18.10   </td><td>0       </td><td>0.583   </td><td>5.905   </td><td>53.2    </td><td>3.1523  </td><td>24      </td><td>666     </td><td>20.2    </td><td>388.22  </td><td>11.45   </td><td>20.6    </td></tr>\n",
       "\t<tr><td> 0.15086</td><td>0       </td><td>27.74   </td><td>0       </td><td>0.609   </td><td>5.454   </td><td>92.7    </td><td>1.8209  </td><td> 4      </td><td>711     </td><td>20.1    </td><td>395.09  </td><td>18.06   </td><td>15.2    </td></tr>\n",
       "\t<tr><td> 0.18337</td><td>0       </td><td>27.74   </td><td>0       </td><td>0.609   </td><td>5.414   </td><td>98.3    </td><td>1.7554  </td><td> 4      </td><td>711     </td><td>20.1    </td><td>344.05  </td><td>23.97   </td><td> 7.0    </td></tr>\n",
       "\t<tr><td> 0.20746</td><td>0       </td><td>27.74   </td><td>0       </td><td>0.609   </td><td>5.093   </td><td>98.0    </td><td>1.8226  </td><td> 4      </td><td>711     </td><td>20.1    </td><td>318.43  </td><td>29.68   </td><td> 8.1    </td></tr>\n",
       "\t<tr><td> 0.10574</td><td>0       </td><td>27.74   </td><td>0       </td><td>0.609   </td><td>5.983   </td><td>98.8    </td><td>1.8681  </td><td> 4      </td><td>711     </td><td>20.1    </td><td>390.11  </td><td>18.07   </td><td>13.6    </td></tr>\n",
       "\t<tr><td> 0.11132</td><td>0       </td><td>27.74   </td><td>0       </td><td>0.609   </td><td>5.983   </td><td>83.5    </td><td>2.1099  </td><td> 4      </td><td>711     </td><td>20.1    </td><td>396.90  </td><td>13.35   </td><td>20.1    </td></tr>\n",
       "\t<tr><td> 0.17331</td><td>0       </td><td> 9.69   </td><td>0       </td><td>0.585   </td><td>5.707   </td><td>54.0    </td><td>2.3817  </td><td> 6      </td><td>391     </td><td>19.2    </td><td>396.90  </td><td>12.01   </td><td>21.8    </td></tr>\n",
       "\t<tr><td> 0.27957</td><td>0       </td><td> 9.69   </td><td>0       </td><td>0.585   </td><td>5.926   </td><td>42.6    </td><td>2.3817  </td><td> 6      </td><td>391     </td><td>19.2    </td><td>396.90  </td><td>13.59   </td><td>24.5    </td></tr>\n",
       "\t<tr><td> 0.17899</td><td>0       </td><td> 9.69   </td><td>0       </td><td>0.585   </td><td>5.670   </td><td>28.8    </td><td>2.7986  </td><td> 6      </td><td>391     </td><td>19.2    </td><td>393.29  </td><td>17.60   </td><td>23.1    </td></tr>\n",
       "\t<tr><td> 0.28960</td><td>0       </td><td> 9.69   </td><td>0       </td><td>0.585   </td><td>5.390   </td><td>72.9    </td><td>2.7986  </td><td> 6      </td><td>391     </td><td>19.2    </td><td>396.90  </td><td>21.14   </td><td>19.7    </td></tr>\n",
       "\t<tr><td> 0.26838</td><td>0       </td><td> 9.69   </td><td>0       </td><td>0.585   </td><td>5.794   </td><td>70.6    </td><td>2.8927  </td><td> 6      </td><td>391     </td><td>19.2    </td><td>396.90  </td><td>14.10   </td><td>18.3    </td></tr>\n",
       "\t<tr><td> 0.23912</td><td>0       </td><td> 9.69   </td><td>0       </td><td>0.585   </td><td>6.019   </td><td>65.3    </td><td>2.4091  </td><td> 6      </td><td>391     </td><td>19.2    </td><td>396.90  </td><td>12.92   </td><td>21.2    </td></tr>\n",
       "\t<tr><td> 0.17783</td><td>0       </td><td> 9.69   </td><td>0       </td><td>0.585   </td><td>5.569   </td><td>73.5    </td><td>2.3999  </td><td> 6      </td><td>391     </td><td>19.2    </td><td>395.77  </td><td>15.10   </td><td>17.5    </td></tr>\n",
       "\t<tr><td> 0.22438</td><td>0       </td><td> 9.69   </td><td>0       </td><td>0.585   </td><td>6.027   </td><td>79.7    </td><td>2.4982  </td><td> 6      </td><td>391     </td><td>19.2    </td><td>396.90  </td><td>14.33   </td><td>16.8    </td></tr>\n",
       "\t<tr><td> 0.06263</td><td>0       </td><td>11.93   </td><td>0       </td><td>0.573   </td><td>6.593   </td><td>69.1    </td><td>2.4786  </td><td> 1      </td><td>273     </td><td>21.0    </td><td>391.99  </td><td> 9.67   </td><td>22.4    </td></tr>\n",
       "\t<tr><td> 0.04527</td><td>0       </td><td>11.93   </td><td>0       </td><td>0.573   </td><td>6.120   </td><td>76.7    </td><td>2.2875  </td><td> 1      </td><td>273     </td><td>21.0    </td><td>396.90  </td><td> 9.08   </td><td>20.6    </td></tr>\n",
       "\t<tr><td> 0.06076</td><td>0       </td><td>11.93   </td><td>0       </td><td>0.573   </td><td>6.976   </td><td>91.0    </td><td>2.1675  </td><td> 1      </td><td>273     </td><td>21.0    </td><td>396.90  </td><td> 5.64   </td><td>23.9    </td></tr>\n",
       "\t<tr><td> 0.10959</td><td>0       </td><td>11.93   </td><td>0       </td><td>0.573   </td><td>6.794   </td><td>89.3    </td><td>2.3889  </td><td> 1      </td><td>273     </td><td>21.0    </td><td>393.45  </td><td> 6.48   </td><td>22.0    </td></tr>\n",
       "\t<tr><td> 0.04741</td><td>0       </td><td>11.93   </td><td>0       </td><td>0.573   </td><td>6.030   </td><td>80.8    </td><td>2.5050  </td><td> 1      </td><td>273     </td><td>21.0    </td><td>396.90  </td><td> 7.88   </td><td>11.9    </td></tr>\n",
       "</tbody>\n",
       "</table>\n"
      ],
      "text/latex": [
       "\\begin{tabular}{r|llllllllllllll}\n",
       " crim & zn & indus & chas & nox & rm & age & dis & rad & tax & ptratio & black & lstat & medv\\\\\n",
       "\\hline\n",
       "\t 0.00632 & 18.0    & 2.31    & 0       & 0.538   & 6.575   &  65.2   & 4.0900  & 1       & 296     & 15.3    & 396.90  &  4.98   & 24.0   \\\\\n",
       "\t 0.02731 &  0.0    & 7.07    & 0       & 0.469   & 6.421   &  78.9   & 4.9671  & 2       & 242     & 17.8    & 396.90  &  9.14   & 21.6   \\\\\n",
       "\t 0.02729 &  0.0    & 7.07    & 0       & 0.469   & 7.185   &  61.1   & 4.9671  & 2       & 242     & 17.8    & 392.83  &  4.03   & 34.7   \\\\\n",
       "\t 0.03237 &  0.0    & 2.18    & 0       & 0.458   & 6.998   &  45.8   & 6.0622  & 3       & 222     & 18.7    & 394.63  &  2.94   & 33.4   \\\\\n",
       "\t 0.06905 &  0.0    & 2.18    & 0       & 0.458   & 7.147   &  54.2   & 6.0622  & 3       & 222     & 18.7    & 396.90  &  5.33   & 36.2   \\\\\n",
       "\t 0.02985 &  0.0    & 2.18    & 0       & 0.458   & 6.430   &  58.7   & 6.0622  & 3       & 222     & 18.7    & 394.12  &  5.21   & 28.7   \\\\\n",
       "\t 0.08829 & 12.5    & 7.87    & 0       & 0.524   & 6.012   &  66.6   & 5.5605  & 5       & 311     & 15.2    & 395.60  & 12.43   & 22.9   \\\\\n",
       "\t 0.14455 & 12.5    & 7.87    & 0       & 0.524   & 6.172   &  96.1   & 5.9505  & 5       & 311     & 15.2    & 396.90  & 19.15   & 27.1   \\\\\n",
       "\t 0.21124 & 12.5    & 7.87    & 0       & 0.524   & 5.631   & 100.0   & 6.0821  & 5       & 311     & 15.2    & 386.63  & 29.93   & 16.5   \\\\\n",
       "\t 0.17004 & 12.5    & 7.87    & 0       & 0.524   & 6.004   &  85.9   & 6.5921  & 5       & 311     & 15.2    & 386.71  & 17.10   & 18.9   \\\\\n",
       "\t 0.22489 & 12.5    & 7.87    & 0       & 0.524   & 6.377   &  94.3   & 6.3467  & 5       & 311     & 15.2    & 392.52  & 20.45   & 15.0   \\\\\n",
       "\t 0.11747 & 12.5    & 7.87    & 0       & 0.524   & 6.009   &  82.9   & 6.2267  & 5       & 311     & 15.2    & 396.90  & 13.27   & 18.9   \\\\\n",
       "\t 0.09378 & 12.5    & 7.87    & 0       & 0.524   & 5.889   &  39.0   & 5.4509  & 5       & 311     & 15.2    & 390.50  & 15.71   & 21.7   \\\\\n",
       "\t 0.62976 &  0.0    & 8.14    & 0       & 0.538   & 5.949   &  61.8   & 4.7075  & 4       & 307     & 21.0    & 396.90  &  8.26   & 20.4   \\\\\n",
       "\t 0.63796 &  0.0    & 8.14    & 0       & 0.538   & 6.096   &  84.5   & 4.4619  & 4       & 307     & 21.0    & 380.02  & 10.26   & 18.2   \\\\\n",
       "\t 0.62739 &  0.0    & 8.14    & 0       & 0.538   & 5.834   &  56.5   & 4.4986  & 4       & 307     & 21.0    & 395.62  &  8.47   & 19.9   \\\\\n",
       "\t 1.05393 &  0.0    & 8.14    & 0       & 0.538   & 5.935   &  29.3   & 4.4986  & 4       & 307     & 21.0    & 386.85  &  6.58   & 23.1   \\\\\n",
       "\t 0.78420 &  0.0    & 8.14    & 0       & 0.538   & 5.990   &  81.7   & 4.2579  & 4       & 307     & 21.0    & 386.75  & 14.67   & 17.5   \\\\\n",
       "\t 0.80271 &  0.0    & 8.14    & 0       & 0.538   & 5.456   &  36.6   & 3.7965  & 4       & 307     & 21.0    & 288.99  & 11.69   & 20.2   \\\\\n",
       "\t 0.72580 &  0.0    & 8.14    & 0       & 0.538   & 5.727   &  69.5   & 3.7965  & 4       & 307     & 21.0    & 390.95  & 11.28   & 18.2   \\\\\n",
       "\t 1.25179 &  0.0    & 8.14    & 0       & 0.538   & 5.570   &  98.1   & 3.7979  & 4       & 307     & 21.0    & 376.57  & 21.02   & 13.6   \\\\\n",
       "\t 0.85204 &  0.0    & 8.14    & 0       & 0.538   & 5.965   &  89.2   & 4.0123  & 4       & 307     & 21.0    & 392.53  & 13.83   & 19.6   \\\\\n",
       "\t 1.23247 &  0.0    & 8.14    & 0       & 0.538   & 6.142   &  91.7   & 3.9769  & 4       & 307     & 21.0    & 396.90  & 18.72   & 15.2   \\\\\n",
       "\t 0.98843 &  0.0    & 8.14    & 0       & 0.538   & 5.813   & 100.0   & 4.0952  & 4       & 307     & 21.0    & 394.54  & 19.88   & 14.5   \\\\\n",
       "\t 0.75026 &  0.0    & 8.14    & 0       & 0.538   & 5.924   &  94.1   & 4.3996  & 4       & 307     & 21.0    & 394.33  & 16.30   & 15.6   \\\\\n",
       "\t 0.84054 &  0.0    & 8.14    & 0       & 0.538   & 5.599   &  85.7   & 4.4546  & 4       & 307     & 21.0    & 303.42  & 16.51   & 13.9   \\\\\n",
       "\t 0.67191 &  0.0    & 8.14    & 0       & 0.538   & 5.813   &  90.3   & 4.6820  & 4       & 307     & 21.0    & 376.88  & 14.81   & 16.6   \\\\\n",
       "\t 0.95577 &  0.0    & 8.14    & 0       & 0.538   & 6.047   &  88.8   & 4.4534  & 4       & 307     & 21.0    & 306.38  & 17.28   & 14.8   \\\\\n",
       "\t 0.77299 &  0.0    & 8.14    & 0       & 0.538   & 6.495   &  94.4   & 4.4547  & 4       & 307     & 21.0    & 387.94  & 12.80   & 18.4   \\\\\n",
       "\t 1.00245 &  0.0    & 8.14    & 0       & 0.538   & 6.674   &  87.3   & 4.2390  & 4       & 307     & 21.0    & 380.23  & 11.98   & 21.0   \\\\\n",
       "\t ... & ... & ... & ... & ... & ... & ... & ... & ... & ... & ... & ... & ... & ...\\\\\n",
       "\t  4.87141 & 0        & 18.10    & 0        & 0.614    & 6.484    & 93.6     & 2.3053   & 24       & 666      & 20.2     & 396.21   & 18.68    & 16.7    \\\\\n",
       "\t 15.02340 & 0        & 18.10    & 0        & 0.614    & 5.304    & 97.3     & 2.1007   & 24       & 666      & 20.2     & 349.48   & 24.91    & 12.0    \\\\\n",
       "\t 10.23300 & 0        & 18.10    & 0        & 0.614    & 6.185    & 96.7     & 2.1705   & 24       & 666      & 20.2     & 379.70   & 18.03    & 14.6    \\\\\n",
       "\t 14.33370 & 0        & 18.10    & 0        & 0.614    & 6.229    & 88.0     & 1.9512   & 24       & 666      & 20.2     & 383.32   & 13.11    & 21.4    \\\\\n",
       "\t  5.82401 & 0        & 18.10    & 0        & 0.532    & 6.242    & 64.7     & 3.4242   & 24       & 666      & 20.2     & 396.90   & 10.74    & 23.0    \\\\\n",
       "\t  5.70818 & 0        & 18.10    & 0        & 0.532    & 6.750    & 74.9     & 3.3317   & 24       & 666      & 20.2     & 393.07   &  7.74    & 23.7    \\\\\n",
       "\t  5.73116 & 0        & 18.10    & 0        & 0.532    & 7.061    & 77.0     & 3.4106   & 24       & 666      & 20.2     & 395.28   &  7.01    & 25.0    \\\\\n",
       "\t  2.81838 & 0        & 18.10    & 0        & 0.532    & 5.762    & 40.3     & 4.0983   & 24       & 666      & 20.2     & 392.92   & 10.42    & 21.8    \\\\\n",
       "\t  2.37857 & 0        & 18.10    & 0        & 0.583    & 5.871    & 41.9     & 3.7240   & 24       & 666      & 20.2     & 370.73   & 13.34    & 20.6    \\\\\n",
       "\t  3.67367 & 0        & 18.10    & 0        & 0.583    & 6.312    & 51.9     & 3.9917   & 24       & 666      & 20.2     & 388.62   & 10.58    & 21.2    \\\\\n",
       "\t  5.69175 & 0        & 18.10    & 0        & 0.583    & 6.114    & 79.8     & 3.5459   & 24       & 666      & 20.2     & 392.68   & 14.98    & 19.1    \\\\\n",
       "\t  4.83567 & 0        & 18.10    & 0        & 0.583    & 5.905    & 53.2     & 3.1523   & 24       & 666      & 20.2     & 388.22   & 11.45    & 20.6    \\\\\n",
       "\t  0.15086 & 0        & 27.74    & 0        & 0.609    & 5.454    & 92.7     & 1.8209   &  4       & 711      & 20.1     & 395.09   & 18.06    & 15.2    \\\\\n",
       "\t  0.18337 & 0        & 27.74    & 0        & 0.609    & 5.414    & 98.3     & 1.7554   &  4       & 711      & 20.1     & 344.05   & 23.97    &  7.0    \\\\\n",
       "\t  0.20746 & 0        & 27.74    & 0        & 0.609    & 5.093    & 98.0     & 1.8226   &  4       & 711      & 20.1     & 318.43   & 29.68    &  8.1    \\\\\n",
       "\t  0.10574 & 0        & 27.74    & 0        & 0.609    & 5.983    & 98.8     & 1.8681   &  4       & 711      & 20.1     & 390.11   & 18.07    & 13.6    \\\\\n",
       "\t  0.11132 & 0        & 27.74    & 0        & 0.609    & 5.983    & 83.5     & 2.1099   &  4       & 711      & 20.1     & 396.90   & 13.35    & 20.1    \\\\\n",
       "\t  0.17331 & 0        &  9.69    & 0        & 0.585    & 5.707    & 54.0     & 2.3817   &  6       & 391      & 19.2     & 396.90   & 12.01    & 21.8    \\\\\n",
       "\t  0.27957 & 0        &  9.69    & 0        & 0.585    & 5.926    & 42.6     & 2.3817   &  6       & 391      & 19.2     & 396.90   & 13.59    & 24.5    \\\\\n",
       "\t  0.17899 & 0        &  9.69    & 0        & 0.585    & 5.670    & 28.8     & 2.7986   &  6       & 391      & 19.2     & 393.29   & 17.60    & 23.1    \\\\\n",
       "\t  0.28960 & 0        &  9.69    & 0        & 0.585    & 5.390    & 72.9     & 2.7986   &  6       & 391      & 19.2     & 396.90   & 21.14    & 19.7    \\\\\n",
       "\t  0.26838 & 0        &  9.69    & 0        & 0.585    & 5.794    & 70.6     & 2.8927   &  6       & 391      & 19.2     & 396.90   & 14.10    & 18.3    \\\\\n",
       "\t  0.23912 & 0        &  9.69    & 0        & 0.585    & 6.019    & 65.3     & 2.4091   &  6       & 391      & 19.2     & 396.90   & 12.92    & 21.2    \\\\\n",
       "\t  0.17783 & 0        &  9.69    & 0        & 0.585    & 5.569    & 73.5     & 2.3999   &  6       & 391      & 19.2     & 395.77   & 15.10    & 17.5    \\\\\n",
       "\t  0.22438 & 0        &  9.69    & 0        & 0.585    & 6.027    & 79.7     & 2.4982   &  6       & 391      & 19.2     & 396.90   & 14.33    & 16.8    \\\\\n",
       "\t  0.06263 & 0        & 11.93    & 0        & 0.573    & 6.593    & 69.1     & 2.4786   &  1       & 273      & 21.0     & 391.99   &  9.67    & 22.4    \\\\\n",
       "\t  0.04527 & 0        & 11.93    & 0        & 0.573    & 6.120    & 76.7     & 2.2875   &  1       & 273      & 21.0     & 396.90   &  9.08    & 20.6    \\\\\n",
       "\t  0.06076 & 0        & 11.93    & 0        & 0.573    & 6.976    & 91.0     & 2.1675   &  1       & 273      & 21.0     & 396.90   &  5.64    & 23.9    \\\\\n",
       "\t  0.10959 & 0        & 11.93    & 0        & 0.573    & 6.794    & 89.3     & 2.3889   &  1       & 273      & 21.0     & 393.45   &  6.48    & 22.0    \\\\\n",
       "\t  0.04741 & 0        & 11.93    & 0        & 0.573    & 6.030    & 80.8     & 2.5050   &  1       & 273      & 21.0     & 396.90   &  7.88    & 11.9    \\\\\n",
       "\\end{tabular}\n"
      ],
      "text/markdown": [
       "\n",
       "| crim | zn | indus | chas | nox | rm | age | dis | rad | tax | ptratio | black | lstat | medv |\n",
       "|---|---|---|---|---|---|---|---|---|---|---|---|---|---|\n",
       "| 0.00632 | 18.0    | 2.31    | 0       | 0.538   | 6.575   |  65.2   | 4.0900  | 1       | 296     | 15.3    | 396.90  |  4.98   | 24.0    |\n",
       "| 0.02731 |  0.0    | 7.07    | 0       | 0.469   | 6.421   |  78.9   | 4.9671  | 2       | 242     | 17.8    | 396.90  |  9.14   | 21.6    |\n",
       "| 0.02729 |  0.0    | 7.07    | 0       | 0.469   | 7.185   |  61.1   | 4.9671  | 2       | 242     | 17.8    | 392.83  |  4.03   | 34.7    |\n",
       "| 0.03237 |  0.0    | 2.18    | 0       | 0.458   | 6.998   |  45.8   | 6.0622  | 3       | 222     | 18.7    | 394.63  |  2.94   | 33.4    |\n",
       "| 0.06905 |  0.0    | 2.18    | 0       | 0.458   | 7.147   |  54.2   | 6.0622  | 3       | 222     | 18.7    | 396.90  |  5.33   | 36.2    |\n",
       "| 0.02985 |  0.0    | 2.18    | 0       | 0.458   | 6.430   |  58.7   | 6.0622  | 3       | 222     | 18.7    | 394.12  |  5.21   | 28.7    |\n",
       "| 0.08829 | 12.5    | 7.87    | 0       | 0.524   | 6.012   |  66.6   | 5.5605  | 5       | 311     | 15.2    | 395.60  | 12.43   | 22.9    |\n",
       "| 0.14455 | 12.5    | 7.87    | 0       | 0.524   | 6.172   |  96.1   | 5.9505  | 5       | 311     | 15.2    | 396.90  | 19.15   | 27.1    |\n",
       "| 0.21124 | 12.5    | 7.87    | 0       | 0.524   | 5.631   | 100.0   | 6.0821  | 5       | 311     | 15.2    | 386.63  | 29.93   | 16.5    |\n",
       "| 0.17004 | 12.5    | 7.87    | 0       | 0.524   | 6.004   |  85.9   | 6.5921  | 5       | 311     | 15.2    | 386.71  | 17.10   | 18.9    |\n",
       "| 0.22489 | 12.5    | 7.87    | 0       | 0.524   | 6.377   |  94.3   | 6.3467  | 5       | 311     | 15.2    | 392.52  | 20.45   | 15.0    |\n",
       "| 0.11747 | 12.5    | 7.87    | 0       | 0.524   | 6.009   |  82.9   | 6.2267  | 5       | 311     | 15.2    | 396.90  | 13.27   | 18.9    |\n",
       "| 0.09378 | 12.5    | 7.87    | 0       | 0.524   | 5.889   |  39.0   | 5.4509  | 5       | 311     | 15.2    | 390.50  | 15.71   | 21.7    |\n",
       "| 0.62976 |  0.0    | 8.14    | 0       | 0.538   | 5.949   |  61.8   | 4.7075  | 4       | 307     | 21.0    | 396.90  |  8.26   | 20.4    |\n",
       "| 0.63796 |  0.0    | 8.14    | 0       | 0.538   | 6.096   |  84.5   | 4.4619  | 4       | 307     | 21.0    | 380.02  | 10.26   | 18.2    |\n",
       "| 0.62739 |  0.0    | 8.14    | 0       | 0.538   | 5.834   |  56.5   | 4.4986  | 4       | 307     | 21.0    | 395.62  |  8.47   | 19.9    |\n",
       "| 1.05393 |  0.0    | 8.14    | 0       | 0.538   | 5.935   |  29.3   | 4.4986  | 4       | 307     | 21.0    | 386.85  |  6.58   | 23.1    |\n",
       "| 0.78420 |  0.0    | 8.14    | 0       | 0.538   | 5.990   |  81.7   | 4.2579  | 4       | 307     | 21.0    | 386.75  | 14.67   | 17.5    |\n",
       "| 0.80271 |  0.0    | 8.14    | 0       | 0.538   | 5.456   |  36.6   | 3.7965  | 4       | 307     | 21.0    | 288.99  | 11.69   | 20.2    |\n",
       "| 0.72580 |  0.0    | 8.14    | 0       | 0.538   | 5.727   |  69.5   | 3.7965  | 4       | 307     | 21.0    | 390.95  | 11.28   | 18.2    |\n",
       "| 1.25179 |  0.0    | 8.14    | 0       | 0.538   | 5.570   |  98.1   | 3.7979  | 4       | 307     | 21.0    | 376.57  | 21.02   | 13.6    |\n",
       "| 0.85204 |  0.0    | 8.14    | 0       | 0.538   | 5.965   |  89.2   | 4.0123  | 4       | 307     | 21.0    | 392.53  | 13.83   | 19.6    |\n",
       "| 1.23247 |  0.0    | 8.14    | 0       | 0.538   | 6.142   |  91.7   | 3.9769  | 4       | 307     | 21.0    | 396.90  | 18.72   | 15.2    |\n",
       "| 0.98843 |  0.0    | 8.14    | 0       | 0.538   | 5.813   | 100.0   | 4.0952  | 4       | 307     | 21.0    | 394.54  | 19.88   | 14.5    |\n",
       "| 0.75026 |  0.0    | 8.14    | 0       | 0.538   | 5.924   |  94.1   | 4.3996  | 4       | 307     | 21.0    | 394.33  | 16.30   | 15.6    |\n",
       "| 0.84054 |  0.0    | 8.14    | 0       | 0.538   | 5.599   |  85.7   | 4.4546  | 4       | 307     | 21.0    | 303.42  | 16.51   | 13.9    |\n",
       "| 0.67191 |  0.0    | 8.14    | 0       | 0.538   | 5.813   |  90.3   | 4.6820  | 4       | 307     | 21.0    | 376.88  | 14.81   | 16.6    |\n",
       "| 0.95577 |  0.0    | 8.14    | 0       | 0.538   | 6.047   |  88.8   | 4.4534  | 4       | 307     | 21.0    | 306.38  | 17.28   | 14.8    |\n",
       "| 0.77299 |  0.0    | 8.14    | 0       | 0.538   | 6.495   |  94.4   | 4.4547  | 4       | 307     | 21.0    | 387.94  | 12.80   | 18.4    |\n",
       "| 1.00245 |  0.0    | 8.14    | 0       | 0.538   | 6.674   |  87.3   | 4.2390  | 4       | 307     | 21.0    | 380.23  | 11.98   | 21.0    |\n",
       "| ... | ... | ... | ... | ... | ... | ... | ... | ... | ... | ... | ... | ... | ... |\n",
       "|  4.87141 | 0        | 18.10    | 0        | 0.614    | 6.484    | 93.6     | 2.3053   | 24       | 666      | 20.2     | 396.21   | 18.68    | 16.7     |\n",
       "| 15.02340 | 0        | 18.10    | 0        | 0.614    | 5.304    | 97.3     | 2.1007   | 24       | 666      | 20.2     | 349.48   | 24.91    | 12.0     |\n",
       "| 10.23300 | 0        | 18.10    | 0        | 0.614    | 6.185    | 96.7     | 2.1705   | 24       | 666      | 20.2     | 379.70   | 18.03    | 14.6     |\n",
       "| 14.33370 | 0        | 18.10    | 0        | 0.614    | 6.229    | 88.0     | 1.9512   | 24       | 666      | 20.2     | 383.32   | 13.11    | 21.4     |\n",
       "|  5.82401 | 0        | 18.10    | 0        | 0.532    | 6.242    | 64.7     | 3.4242   | 24       | 666      | 20.2     | 396.90   | 10.74    | 23.0     |\n",
       "|  5.70818 | 0        | 18.10    | 0        | 0.532    | 6.750    | 74.9     | 3.3317   | 24       | 666      | 20.2     | 393.07   |  7.74    | 23.7     |\n",
       "|  5.73116 | 0        | 18.10    | 0        | 0.532    | 7.061    | 77.0     | 3.4106   | 24       | 666      | 20.2     | 395.28   |  7.01    | 25.0     |\n",
       "|  2.81838 | 0        | 18.10    | 0        | 0.532    | 5.762    | 40.3     | 4.0983   | 24       | 666      | 20.2     | 392.92   | 10.42    | 21.8     |\n",
       "|  2.37857 | 0        | 18.10    | 0        | 0.583    | 5.871    | 41.9     | 3.7240   | 24       | 666      | 20.2     | 370.73   | 13.34    | 20.6     |\n",
       "|  3.67367 | 0        | 18.10    | 0        | 0.583    | 6.312    | 51.9     | 3.9917   | 24       | 666      | 20.2     | 388.62   | 10.58    | 21.2     |\n",
       "|  5.69175 | 0        | 18.10    | 0        | 0.583    | 6.114    | 79.8     | 3.5459   | 24       | 666      | 20.2     | 392.68   | 14.98    | 19.1     |\n",
       "|  4.83567 | 0        | 18.10    | 0        | 0.583    | 5.905    | 53.2     | 3.1523   | 24       | 666      | 20.2     | 388.22   | 11.45    | 20.6     |\n",
       "|  0.15086 | 0        | 27.74    | 0        | 0.609    | 5.454    | 92.7     | 1.8209   |  4       | 711      | 20.1     | 395.09   | 18.06    | 15.2     |\n",
       "|  0.18337 | 0        | 27.74    | 0        | 0.609    | 5.414    | 98.3     | 1.7554   |  4       | 711      | 20.1     | 344.05   | 23.97    |  7.0     |\n",
       "|  0.20746 | 0        | 27.74    | 0        | 0.609    | 5.093    | 98.0     | 1.8226   |  4       | 711      | 20.1     | 318.43   | 29.68    |  8.1     |\n",
       "|  0.10574 | 0        | 27.74    | 0        | 0.609    | 5.983    | 98.8     | 1.8681   |  4       | 711      | 20.1     | 390.11   | 18.07    | 13.6     |\n",
       "|  0.11132 | 0        | 27.74    | 0        | 0.609    | 5.983    | 83.5     | 2.1099   |  4       | 711      | 20.1     | 396.90   | 13.35    | 20.1     |\n",
       "|  0.17331 | 0        |  9.69    | 0        | 0.585    | 5.707    | 54.0     | 2.3817   |  6       | 391      | 19.2     | 396.90   | 12.01    | 21.8     |\n",
       "|  0.27957 | 0        |  9.69    | 0        | 0.585    | 5.926    | 42.6     | 2.3817   |  6       | 391      | 19.2     | 396.90   | 13.59    | 24.5     |\n",
       "|  0.17899 | 0        |  9.69    | 0        | 0.585    | 5.670    | 28.8     | 2.7986   |  6       | 391      | 19.2     | 393.29   | 17.60    | 23.1     |\n",
       "|  0.28960 | 0        |  9.69    | 0        | 0.585    | 5.390    | 72.9     | 2.7986   |  6       | 391      | 19.2     | 396.90   | 21.14    | 19.7     |\n",
       "|  0.26838 | 0        |  9.69    | 0        | 0.585    | 5.794    | 70.6     | 2.8927   |  6       | 391      | 19.2     | 396.90   | 14.10    | 18.3     |\n",
       "|  0.23912 | 0        |  9.69    | 0        | 0.585    | 6.019    | 65.3     | 2.4091   |  6       | 391      | 19.2     | 396.90   | 12.92    | 21.2     |\n",
       "|  0.17783 | 0        |  9.69    | 0        | 0.585    | 5.569    | 73.5     | 2.3999   |  6       | 391      | 19.2     | 395.77   | 15.10    | 17.5     |\n",
       "|  0.22438 | 0        |  9.69    | 0        | 0.585    | 6.027    | 79.7     | 2.4982   |  6       | 391      | 19.2     | 396.90   | 14.33    | 16.8     |\n",
       "|  0.06263 | 0        | 11.93    | 0        | 0.573    | 6.593    | 69.1     | 2.4786   |  1       | 273      | 21.0     | 391.99   |  9.67    | 22.4     |\n",
       "|  0.04527 | 0        | 11.93    | 0        | 0.573    | 6.120    | 76.7     | 2.2875   |  1       | 273      | 21.0     | 396.90   |  9.08    | 20.6     |\n",
       "|  0.06076 | 0        | 11.93    | 0        | 0.573    | 6.976    | 91.0     | 2.1675   |  1       | 273      | 21.0     | 396.90   |  5.64    | 23.9     |\n",
       "|  0.10959 | 0        | 11.93    | 0        | 0.573    | 6.794    | 89.3     | 2.3889   |  1       | 273      | 21.0     | 393.45   |  6.48    | 22.0     |\n",
       "|  0.04741 | 0        | 11.93    | 0        | 0.573    | 6.030    | 80.8     | 2.5050   |  1       | 273      | 21.0     | 396.90   |  7.88    | 11.9     |\n",
       "\n"
      ],
      "text/plain": [
       "    crim     zn   indus chas nox   rm    age   dis    rad tax ptratio black \n",
       "1   0.00632  18.0 2.31  0    0.538 6.575  65.2 4.0900 1   296 15.3    396.90\n",
       "2   0.02731   0.0 7.07  0    0.469 6.421  78.9 4.9671 2   242 17.8    396.90\n",
       "3   0.02729   0.0 7.07  0    0.469 7.185  61.1 4.9671 2   242 17.8    392.83\n",
       "4   0.03237   0.0 2.18  0    0.458 6.998  45.8 6.0622 3   222 18.7    394.63\n",
       "5   0.06905   0.0 2.18  0    0.458 7.147  54.2 6.0622 3   222 18.7    396.90\n",
       "6   0.02985   0.0 2.18  0    0.458 6.430  58.7 6.0622 3   222 18.7    394.12\n",
       "7   0.08829  12.5 7.87  0    0.524 6.012  66.6 5.5605 5   311 15.2    395.60\n",
       "8   0.14455  12.5 7.87  0    0.524 6.172  96.1 5.9505 5   311 15.2    396.90\n",
       "9   0.21124  12.5 7.87  0    0.524 5.631 100.0 6.0821 5   311 15.2    386.63\n",
       "10  0.17004  12.5 7.87  0    0.524 6.004  85.9 6.5921 5   311 15.2    386.71\n",
       "11  0.22489  12.5 7.87  0    0.524 6.377  94.3 6.3467 5   311 15.2    392.52\n",
       "12  0.11747  12.5 7.87  0    0.524 6.009  82.9 6.2267 5   311 15.2    396.90\n",
       "13  0.09378  12.5 7.87  0    0.524 5.889  39.0 5.4509 5   311 15.2    390.50\n",
       "14  0.62976   0.0 8.14  0    0.538 5.949  61.8 4.7075 4   307 21.0    396.90\n",
       "15  0.63796   0.0 8.14  0    0.538 6.096  84.5 4.4619 4   307 21.0    380.02\n",
       "16  0.62739   0.0 8.14  0    0.538 5.834  56.5 4.4986 4   307 21.0    395.62\n",
       "17  1.05393   0.0 8.14  0    0.538 5.935  29.3 4.4986 4   307 21.0    386.85\n",
       "18  0.78420   0.0 8.14  0    0.538 5.990  81.7 4.2579 4   307 21.0    386.75\n",
       "19  0.80271   0.0 8.14  0    0.538 5.456  36.6 3.7965 4   307 21.0    288.99\n",
       "20  0.72580   0.0 8.14  0    0.538 5.727  69.5 3.7965 4   307 21.0    390.95\n",
       "21  1.25179   0.0 8.14  0    0.538 5.570  98.1 3.7979 4   307 21.0    376.57\n",
       "22  0.85204   0.0 8.14  0    0.538 5.965  89.2 4.0123 4   307 21.0    392.53\n",
       "23  1.23247   0.0 8.14  0    0.538 6.142  91.7 3.9769 4   307 21.0    396.90\n",
       "24  0.98843   0.0 8.14  0    0.538 5.813 100.0 4.0952 4   307 21.0    394.54\n",
       "25  0.75026   0.0 8.14  0    0.538 5.924  94.1 4.3996 4   307 21.0    394.33\n",
       "26  0.84054   0.0 8.14  0    0.538 5.599  85.7 4.4546 4   307 21.0    303.42\n",
       "27  0.67191   0.0 8.14  0    0.538 5.813  90.3 4.6820 4   307 21.0    376.88\n",
       "28  0.95577   0.0 8.14  0    0.538 6.047  88.8 4.4534 4   307 21.0    306.38\n",
       "29  0.77299   0.0 8.14  0    0.538 6.495  94.4 4.4547 4   307 21.0    387.94\n",
       "30  1.00245   0.0 8.14  0    0.538 6.674  87.3 4.2390 4   307 21.0    380.23\n",
       "... ...      ...  ...   ...  ...   ...   ...   ...    ... ... ...     ...   \n",
       "477  4.87141 0    18.10 0    0.614 6.484 93.6  2.3053 24  666 20.2    396.21\n",
       "478 15.02340 0    18.10 0    0.614 5.304 97.3  2.1007 24  666 20.2    349.48\n",
       "479 10.23300 0    18.10 0    0.614 6.185 96.7  2.1705 24  666 20.2    379.70\n",
       "480 14.33370 0    18.10 0    0.614 6.229 88.0  1.9512 24  666 20.2    383.32\n",
       "481  5.82401 0    18.10 0    0.532 6.242 64.7  3.4242 24  666 20.2    396.90\n",
       "482  5.70818 0    18.10 0    0.532 6.750 74.9  3.3317 24  666 20.2    393.07\n",
       "483  5.73116 0    18.10 0    0.532 7.061 77.0  3.4106 24  666 20.2    395.28\n",
       "484  2.81838 0    18.10 0    0.532 5.762 40.3  4.0983 24  666 20.2    392.92\n",
       "485  2.37857 0    18.10 0    0.583 5.871 41.9  3.7240 24  666 20.2    370.73\n",
       "486  3.67367 0    18.10 0    0.583 6.312 51.9  3.9917 24  666 20.2    388.62\n",
       "487  5.69175 0    18.10 0    0.583 6.114 79.8  3.5459 24  666 20.2    392.68\n",
       "488  4.83567 0    18.10 0    0.583 5.905 53.2  3.1523 24  666 20.2    388.22\n",
       "489  0.15086 0    27.74 0    0.609 5.454 92.7  1.8209  4  711 20.1    395.09\n",
       "490  0.18337 0    27.74 0    0.609 5.414 98.3  1.7554  4  711 20.1    344.05\n",
       "491  0.20746 0    27.74 0    0.609 5.093 98.0  1.8226  4  711 20.1    318.43\n",
       "492  0.10574 0    27.74 0    0.609 5.983 98.8  1.8681  4  711 20.1    390.11\n",
       "493  0.11132 0    27.74 0    0.609 5.983 83.5  2.1099  4  711 20.1    396.90\n",
       "494  0.17331 0     9.69 0    0.585 5.707 54.0  2.3817  6  391 19.2    396.90\n",
       "495  0.27957 0     9.69 0    0.585 5.926 42.6  2.3817  6  391 19.2    396.90\n",
       "496  0.17899 0     9.69 0    0.585 5.670 28.8  2.7986  6  391 19.2    393.29\n",
       "497  0.28960 0     9.69 0    0.585 5.390 72.9  2.7986  6  391 19.2    396.90\n",
       "498  0.26838 0     9.69 0    0.585 5.794 70.6  2.8927  6  391 19.2    396.90\n",
       "499  0.23912 0     9.69 0    0.585 6.019 65.3  2.4091  6  391 19.2    396.90\n",
       "500  0.17783 0     9.69 0    0.585 5.569 73.5  2.3999  6  391 19.2    395.77\n",
       "501  0.22438 0     9.69 0    0.585 6.027 79.7  2.4982  6  391 19.2    396.90\n",
       "502  0.06263 0    11.93 0    0.573 6.593 69.1  2.4786  1  273 21.0    391.99\n",
       "503  0.04527 0    11.93 0    0.573 6.120 76.7  2.2875  1  273 21.0    396.90\n",
       "504  0.06076 0    11.93 0    0.573 6.976 91.0  2.1675  1  273 21.0    396.90\n",
       "505  0.10959 0    11.93 0    0.573 6.794 89.3  2.3889  1  273 21.0    393.45\n",
       "506  0.04741 0    11.93 0    0.573 6.030 80.8  2.5050  1  273 21.0    396.90\n",
       "    lstat medv\n",
       "1    4.98 24.0\n",
       "2    9.14 21.6\n",
       "3    4.03 34.7\n",
       "4    2.94 33.4\n",
       "5    5.33 36.2\n",
       "6    5.21 28.7\n",
       "7   12.43 22.9\n",
       "8   19.15 27.1\n",
       "9   29.93 16.5\n",
       "10  17.10 18.9\n",
       "11  20.45 15.0\n",
       "12  13.27 18.9\n",
       "13  15.71 21.7\n",
       "14   8.26 20.4\n",
       "15  10.26 18.2\n",
       "16   8.47 19.9\n",
       "17   6.58 23.1\n",
       "18  14.67 17.5\n",
       "19  11.69 20.2\n",
       "20  11.28 18.2\n",
       "21  21.02 13.6\n",
       "22  13.83 19.6\n",
       "23  18.72 15.2\n",
       "24  19.88 14.5\n",
       "25  16.30 15.6\n",
       "26  16.51 13.9\n",
       "27  14.81 16.6\n",
       "28  17.28 14.8\n",
       "29  12.80 18.4\n",
       "30  11.98 21.0\n",
       "... ...   ... \n",
       "477 18.68 16.7\n",
       "478 24.91 12.0\n",
       "479 18.03 14.6\n",
       "480 13.11 21.4\n",
       "481 10.74 23.0\n",
       "482  7.74 23.7\n",
       "483  7.01 25.0\n",
       "484 10.42 21.8\n",
       "485 13.34 20.6\n",
       "486 10.58 21.2\n",
       "487 14.98 19.1\n",
       "488 11.45 20.6\n",
       "489 18.06 15.2\n",
       "490 23.97  7.0\n",
       "491 29.68  8.1\n",
       "492 18.07 13.6\n",
       "493 13.35 20.1\n",
       "494 12.01 21.8\n",
       "495 13.59 24.5\n",
       "496 17.60 23.1\n",
       "497 21.14 19.7\n",
       "498 14.10 18.3\n",
       "499 12.92 21.2\n",
       "500 15.10 17.5\n",
       "501 14.33 16.8\n",
       "502  9.67 22.4\n",
       "503  9.08 20.6\n",
       "504  5.64 23.9\n",
       "505  6.48 22.0\n",
       "506  7.88 11.9"
      ]
     },
     "metadata": {},
     "output_type": "display_data"
    }
   ],
   "source": [
    "Boston"
   ]
  },
  {
   "cell_type": "code",
   "execution_count": 96,
   "metadata": {},
   "outputs": [
    {
     "name": "stdout",
     "output_type": "stream",
     "text": [
      "[1] 0.2437812\n"
     ]
    }
   ],
   "source": [
    "beta1_1 <- sum((Boston$lstat-mean(Boston$lstat))*(Boston$medv-mean(Boston$medv)))/sum((Boston$lstat-mean(Boston$lstat**2)))\n",
    "                                                                                      \n",
    "beta1_0 <- mean(Boston$medv)-beta1_1*mean(Boston$lstat)\n",
    "\n",
    "print(beta1_1)"
   ]
  },
  {
   "cell_type": "code",
   "execution_count": 77,
   "metadata": {},
   "outputs": [],
   "source": [
    "beta2_1 <- sum((Boston$rm-mean(Boston$rm))*(Boston$medv-mean(Boston$medv)))/sum((Boston$rm-mean(Boston$rm)**2))\n",
    "\n",
    "beta2_0 <- mean(Boston$medv)-beta2_1*mean(Boston$rm)"
   ]
  },
  {
   "cell_type": "code",
   "execution_count": null,
   "metadata": {},
   "outputs": [],
   "source": []
  },
  {
   "cell_type": "code",
   "execution_count": 47,
   "metadata": {},
   "outputs": [],
   "source": [
    "Bos_ess <- data.frame(cbind(Boston$lstat, Boston$medv))"
   ]
  },
  {
   "cell_type": "code",
   "execution_count": 43,
   "metadata": {},
   "outputs": [],
   "source": [
    "Bos_ess2 <- data.frame(cbind(Boston$medv, Boston$rm))"
   ]
  },
  {
   "cell_type": "code",
   "execution_count": 82,
   "metadata": {},
   "outputs": [
    {
     "name": "stdout",
     "output_type": "stream",
     "text": [
      "\n",
      "Call:\n",
      "lm(formula = Boston$medv ~ Boston$lstat, data = Bos_ess)\n",
      "\n",
      "Coefficients:\n",
      " (Intercept)  Boston$lstat  \n",
      "       34.55         -0.95  \n",
      "\n"
     ]
    }
   ],
   "source": [
    "Bos_ess.lm <- lm(Boston$medv~Boston$lstat, Bos_ess)\n",
    "print(Bos_ess.lm)"
   ]
  },
  {
   "cell_type": "code",
   "execution_count": 85,
   "metadata": {},
   "outputs": [
    {
     "name": "stdout",
     "output_type": "stream",
     "text": [
      "[1] 2 8\n"
     ]
    }
   ],
   "source": [
    "print(c(1,2)*c(2,4))"
   ]
  },
  {
   "cell_type": "code",
   "execution_count": 83,
   "metadata": {},
   "outputs": [
    {
     "name": "stdout",
     "output_type": "stream",
     "text": [
      "\n",
      "Call:\n",
      "lm(formula = Boston$medv ~ Boston$rm, data = Bos_ess2)\n",
      "\n",
      "Coefficients:\n",
      "(Intercept)    Boston$rm  \n",
      "    -34.671        9.102  \n",
      "\n"
     ]
    }
   ],
   "source": [
    "Bos_ess2.lm <- lm(Boston$medv~Boston$rm, Bos_ess2)\n",
    "print(Bos_ess2.lm)"
   ]
  },
  {
   "cell_type": "code",
   "execution_count": 84,
   "metadata": {},
   "outputs": [
    {
     "data": {
      "image/png": "[encoded data removed]",
      "text/plain": [
       "plot without title"
      ]
     },
     "metadata": {},
     "output_type": "display_data"
    },
    {
     "data": {
      "image/png": "[encoded data removed]",
      "text/plain": [
       "plot without title"
      ]
     },
     "metadata": {},
     "output_type": "display_data"
    }
   ],
   "source": [
    "plot(Boston$lstat, Boston$medv, ylab = 'medv', xlab = 'lstat', col = 'red')\n",
    "abline(Bos_ess.lm$coefficients, col = 'blue')\n",
    "abline(beta1_0,beta1_1, col = 'magenta')\n",
    "\n",
    "plot(Boston$rm, Boston$medv, ylab = 'medv', xlab = 'rm', col = 'red')\n",
    "abline(Bos_ess2.lm$coefficients, col = 'blue')"
   ]
  },
  {
   "cell_type": "code",
   "execution_count": 54,
   "metadata": {
    "scrolled": true
   },
   "outputs": [
    {
     "data": {
      "image/png": "[encoded data removed]",
      "text/plain": [
       "plot without title"
      ]
     },
     "metadata": {},
     "output_type": "display_data"
    }
   ],
   "source": [
    "plot(Boston$rm, Boston$medv, ylab = 'medv', xlab = 'rm', col = 'red')\n",
    "abline(Bos_ess2.lm$coefficients, col = 'blue')"
   ]
  },
  {
   "cell_type": "code",
   "execution_count": 60,
   "metadata": {},
   "outputs": [],
   "source": [
    "?residuals"
   ]
  },
  {
   "cell_type": "code",
   "execution_count": null,
   "metadata": {},
   "outputs": [],
   "source": [
    "x <- Boston$lstate\n",
    "y <- Boston$rm"
   ]
  },
  {
   "cell_type": "code",
   "execution_count": null,
   "metadata": {},
   "outputs": [],
   "source": [
    "x_bar <- mean(x)\n",
    "y_bar <- mean(y)"
   ]
  },
  {
   "cell_type": "code",
   "execution_count": null,
   "metadata": {},
   "outputs": [],
   "source": [
    "my_varx <- sum((x-x_bar)^2)/(length(x)-1)\n",
    "my_vary <- sum((y-y_bar)^2)/(length(y)-1)"
   ]
  }
 ],
 "metadata": {
  "kernelspec": {
   "display_name": "R",
   "language": "R",
   "name": "ir"
  },
  "language_info": {
   "codemirror_mode": "r",
   "file_extension": ".r",
   "mimetype": "text/x-r-source",
   "name": "R",
   "pygments_lexer": "r",
   "version": "3.6.1"
  }
 },
 "nbformat": 4,
 "nbformat_minor": 4
}
