{
 "cells": [
  {
   "cell_type": "code",
   "execution_count": 1,
   "metadata": {},
   "outputs": [
    {
     "name": "stderr",
     "output_type": "stream",
     "text": [
      "Warning message:\n",
      "\"package 'ISLR' was built under R version 3.6.3\""
     ]
    }
   ],
   "source": [
    "library(ISLR)"
   ]
  },
  {
   "cell_type": "code",
   "execution_count": 2,
   "metadata": {},
   "outputs": [
    {
     "name": "stdout",
     "output_type": "stream",
     "text": [
      "[1] \"var x:  0.493670850221109 0.493670850221109\"\n",
      "[1] \"var y:  84.5867235940985 84.5867235940985\"\n",
      "[1] \"slope:  9.10210898118031\"\n",
      "[1] \"intercept:  -34.6706207764386\"\n"
     ]
    },
    {
     "data": {
      "text/plain": [
       "\n",
       "Call:\n",
       "lm(formula = medv ~ rm, data = Boston)\n",
       "\n",
       "Coefficients:\n",
       "(Intercept)           rm  \n",
       "    -34.671        9.102  \n"
      ]
     },
     "metadata": {},
     "output_type": "display_data"
    }
   ],
   "source": [
    "##This is my code to calculate beta_0 and beta_ without the lm()-function\n",
    "\n",
    "\n",
    "\n",
    "my_slope <- function(x,y) {\n",
    "\n",
    "#\n",
    "\n",
    "# first calculate beta_1\n",
    "\n",
    "# takes the list of x and the list of y values\n",
    "\n",
    "#\n",
    "\n",
    " x_bar <- mean(x)\n",
    "\n",
    " y_bar <- mean(y)\n",
    "\n",
    " my_varx <- sum((x-x_bar)^2)/(length(x)-1)\n",
    "\n",
    " print(paste(\"var x: \", var(x), my_varx))\n",
    "\n",
    " my_vary <- sum((y-y_bar)^2)/(length(y)-1)\n",
    "\n",
    " print(paste(\"var y: \", var(y), my_vary))\n",
    "\n",
    " my_numerator <- sum((x-x_bar)*(y-y_bar))\n",
    "\n",
    " my_nominator <- sum((x-x_bar)^2)\n",
    "\n",
    " print(paste(\"slope: \", my_numerator / my_nominator))\n",
    "\n",
    "}\n",
    "\n",
    "\n",
    "\n",
    "\n",
    "\n",
    "my_intercept <- function(x,y,slope) {\n",
    "\n",
    "#\n",
    "\n",
    "# now calculate beta_0\n",
    "\n",
    "# takes the list of x and the list of y values\n",
    "\n",
    "# take the slope manually: insert here the output from my_slope()\n",
    "\n",
    "#\n",
    "\n",
    " x_bar <- mean(x)\n",
    "\n",
    " y_bar <- mean(y)\n",
    "\n",
    " print(paste(\"intercept: \", y_bar - x_bar*slope))\n",
    "\n",
    "}\n",
    "\n",
    "\n",
    "\n",
    "# now apply it on data\n",
    "\n",
    "library(MASS)\n",
    "\n",
    "my_slope(Boston$rm,Boston$medv)\n",
    "\n",
    "my_intercept(Boston$rm,Boston$medv,9.10210898118031)\n",
    "\n",
    "\n",
    "\n",
    "# compare to lm()\n",
    "\n",
    "lm(medv ~ rm, Boston)"
   ]
  }
 ],
 "metadata": {
  "kernelspec": {
   "display_name": "R",
   "language": "R",
   "name": "ir"
  },
  "language_info": {
   "codemirror_mode": "r",
   "file_extension": ".r",
   "mimetype": "text/x-r-source",
   "name": "R",
   "pygments_lexer": "r",
   "version": "3.6.1"
  }
 },
 "nbformat": 4,
 "nbformat_minor": 4
}
